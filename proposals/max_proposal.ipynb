{
 "cells": [
  {
   "cell_type": "markdown",
   "id": "378ae6f1",
   "metadata": {},
   "source": [
    "# How does the frequency of family visits predict subjective happiness and self-rated physical health?\n",
    "Variables:\n",
    "\n",
    "Frequency of family visits (`CONNECTION_activities_visited_family_p3m`). A box plot for frequency of family visits allows you to see the distribution of visit frequencies and identify any potential outliers.\n",
    "\n",
    "Subjective happiness (`WELLNESS_subjective_happiness_scale_happy`). \n",
    "\n",
    "Self-rated physical health (`WELLNESS_self_rated_physical_health`).\n",
    "A scatter plot for both variables here against the frequency of family visits would show the individual data points clearly, and allow you to identify trends as well as fitting a line.\n",
    "\n",
    "**Importance of Variables**: The frequency of family visits is important as it could be correlated with subjective happiness and positively influence individuals’ self-rated physical health.\n",
    "\n",
    "Conduct linear regression analyses to evaluate how well the frequency of family visits predicts both subjective happiness and self-rated physical health.\n",
    "\n",
    "Subjective Happiness = $\\beta_{0} + \\beta_{1} \\cdot \\text{Family Visits} + \\epsilon_1$\n",
    "\n",
    "Physical Health = $\\beta_{0}' + \\beta_{1}' \\cdot \\text{Family Visits} + \\epsilon_2$\n",
    "\n",
    "**Null Hypothesis** ($H_0$): The frequency of family visits has no effect on subjective happiness or self-rated physical health $(\\beta_1, \\beta_1 = 0)$.\n",
    "\n",
    "**Alternative Hypothesis** ($H_1$): The frequency of family visits positively influences subjective happiness and self-rated physical health $(\\beta_1, \\beta_1' \\ne 0)$.\n",
    "\n",
    "Numerical values will be assigned to the ordinal data, to which a line will be fitted and used to generate a summary. If the regression coefficients for family visits are statistically significant, it would indicate that more frequent family visits are associated with higher levels of subjective happiness and better self-rated physical health. This analysis would help establish the predictive relationship between family interaction and well-being.\n",
    "\n",
    "We assume that there is a linear relationship, the observations are independent, homoscedasticity, as well as residual normality. If the data isn't normally distributed, transformations (such as `log`) can be applied.\n",
    "\n",
    "**Hypothesis**: We hypothesize that there is a positive correlation between the frequency of family visits and both subjective happiness and self-rated physical health. Specifically, as the frequency of family visits increases, we expect individuals to have higher levels of happiness and better self-assessments of their physical health. By examining data on family visit frequency, we can determine if there is a statistical relationship with reported happiness and health levels."
   ]
  },
  {
   "cell_type": "markdown",
   "id": "9c336e30",
   "metadata": {},
   "source": [
    "# Is there a statistically significant relationship between burnout symptoms and social activity preferences?\n",
    "\n",
    "Variables:\n",
    "\n",
    "Burnout Symptoms: `WELLNESS_malach_pines_burnout_measure_...`\n",
    "\n",
    "Social Activity Preferences: `CONNECTION_preference_time_...`\n",
    "\n",
    "$$\n",
    "\\text{logistic}(P(Y \\leq k)) = \\alpha_k - (\\beta_1 \\times \\text{tired} + \\beta_2 \\times \\text{disappointed} + \\beta_3 \\times \\text{hopeless} + \\ldots + \\beta_{10} \\times \\text{had it})\n",
    "$$\n",
    "\n",
    "Importance of Variables: Burnout symptoms and social activity preferences are significant as they help assess how individuals' level of burnout impacts their social activity preferences.\n",
    "\n",
    "To investigate the relationship between burnout symptoms and social activity preferences, we will use ordered logistic regression. This method enables us to analyze how different levels of burnout symptoms influence the likelihood of preferring various types of social activities. We will assign numerical values to the ordinal responses of burnout symptoms and social activity preferences, fit the ordered logistic regression model to the data, and obtain the model parameters to understand the relationships between these variables. \n",
    "\n",
    "Here, a positive $\\beta$ indicates that this symptom is associated with a greater likelihood of preferring a certain social activity, while a negative $\\beta$ indicates otherwise. We will evaluate the p-values associated with the regression coefficients for each burnout symptom within the ordered logistic model and compare these values to a pre-established significance level to determine the statistical significance of our findings.\n",
    "\n",
    "**Null Hypothesis** ($H_0$): Each $\\beta = 0$. Burnout symptoms do not significantly affect social activity preferences. \n",
    "\n",
    "**Alternative Hypothesis** ($H_1$): Some $\\beta \\ne 0$. Burnout symptoms significantly affect social activity preferences. \n",
    "\n",
    "We assume that the observations are independent, and that the relationships are linear. We also assume that the relationship between each pair of outcome groups is consistent, to ensure that the model remains simple.\n",
    "\n",
    "**Hypothesis**: We hypothesize that individuals with higher burnout symptoms on average may show a preference for solitary activities rather than engaging with others. If people with high burnout tend to avoid interactions with friends or coworkers, this would indicate a link between burnout symptoms and social activity preferences."
   ]
  },
  {
   "cell_type": "markdown",
   "id": "9f04b575",
   "metadata": {},
   "source": [
    "# Does the mode of social interaction (virtual vs. in-person) affect loneliness levels in a statistically significant way?\n",
    "Variables: Virtual social interaction (`CONNECTION_activities_video_chat_p3m`, `CONNECTION_activities_onlinegames_p3m`) \n",
    "\n",
    "vs. in-person interaction (`CONNECTION_activities_visited_friends_p3m`, `CONNECTION_activities_coffee_p3m`) and loneliness scores (`LONELY_ucla_loneliness_scale_...`).\n",
    "\n",
    "A bar chart here lets you compare the frequencies of virtual and in-person interactions, for respondents who fit into either category. A box plot can be applied to the loneliness scores to view the distribution, and a violin plot can be used to make comparisons.\n",
    "\n",
    "**Importance of Variables**: These variables are important, as they capture whether different modes of staying connected that can have distinct effects on loneliness levels, impacting individuals' emotional well-being.\n",
    "\n",
    "Numerical values will be assigned to the ordinal data, which is then used to divide respondents into groups with high virtual and high in-person interaction. Calculate p-values to determine if there is a statistically significant difference in loneliness between the two modes of interaction.\n",
    "\n",
    "**Null Hypothesis** ($H_0$): There is no significant difference in loneliness scores between those who frequently engage in virtual social interaction and those who engage in in-person interaction.\n",
    "\n",
    "**Alternative Hypothesis** ($H_1$): There is a significant difference in loneliness scores between the two groups.\n",
    "\n",
    "If the p-value is below the significance level, there is significant difference in loneliness levels between virtual and in-person social interactions. This suggests that the mode of connection has an impact on mental health, as well as overall well being.\n",
    "\n",
    "We assume that the the observations are independent, the distribution is normal, and that the variance are similar across the 2 groups.\n",
    "\n",
    "**Hypothesis**: We hypothesize that individuals who engage in in-person social interactions will report lower levels of loneliness compared to those who primarily engage in virtual interactions. If results indicate that family visits are associated with lower loneliness, this could imply that in-person visits may be correlated loneliness levels in a statistically significant way."
   ]
  },
  {
   "cell_type": "markdown",
   "id": "fa040168",
   "metadata": {},
   "source": []
  }
 ],
 "metadata": {
  "kernelspec": {
   "display_name": "Python 3 (ipykernel)",
   "language": "python",
   "name": "python3"
  },
  "language_info": {
   "codemirror_mode": {
    "name": "ipython",
    "version": 3
   },
   "file_extension": ".py",
   "mimetype": "text/x-python",
   "name": "python",
   "nbconvert_exporter": "python",
   "pygments_lexer": "ipython3",
   "version": "3.11.6"
  }
 },
 "nbformat": 4,
 "nbformat_minor": 5
}
