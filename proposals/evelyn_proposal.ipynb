{
 "cells": [
  {
   "cell_type": "markdown",
   "id": "48c0a943",
   "metadata": {},
   "source": [
    "**STA130 COURSE PROJECT: INDIVIDUAL PROPOSAL**\n",
    "\n",
    "Evelyn Jin"
   ]
  },
  {
   "cell_type": "markdown",
   "id": "eb01cdc6",
   "metadata": {},
   "source": [
    "**RESEARCH QUESTION 1**\n",
    "\n",
    "*How do social anxiety, everyday discrimination, and cultural orientation affect social satisfaction among adults in structured social settings, and how does this association relate to psychological well-being?*"
   ]
  },
  {
   "cell_type": "markdown",
   "id": "c4d94a90",
   "metadata": {},
   "source": [
    "This question aims to explore the psychological and social dynamics that influence an individual’s satisfaction within social settings. Specifically, it would be interesting to see whether individuals with higher social anxiety experience less satisfaction in structured social settings; if experiences of everyday discrimination reduce social satisfaction and well-being; and how cultural orientation (individualist vs. collectivist) might affect both social satisfaction and psychological well-being, potentially acting as a buffer or amplifier of these relationships. The study could uncover how social satisfaction within structured settings (like work, school, or organized groups) is shaped by internal factors (social anxiety), external stressors (discrimination), and cultural context, providing insights into supporting well-being in diverse social contexts.\n",
    "\n",
    "The **population parameter** of interest is the average social satisfaction score among adults in structured social settings, conditional on levels of social anxiety, discrimination frequency, and cultural orientation. Additionally, estimating the mean psychological well-being score could reveal how well-being is impacted by social and environmental stressors within structured settings as it relates closely to the other factors.\n",
    "\n",
    "It would be interesting to see if there is a negative association between social anxiety and social satisfaction, where higher social anxiety correlates with lower social satisfaction. Discrimination is also likely to have a negative association with both social satisfaction and psychological well-being, as frequent experiences of discrimination may hinder positive social interactions and mental health. Cultural orientation may moderate the relationships between social satisfaction, social anxiety, and discrimination."
   ]
  },
  {
   "cell_type": "markdown",
   "id": "141da72b",
   "metadata": {},
   "source": [
    "**VARIABLES AND VISUALIZATIONS**\n",
    "\n",
    "**1. Social Anxiety (`Social_Anxiety_Score`)**\n",
    "\n",
    "- **Description:** This numerical variable measures levels of social anxiety, capturing how individuals may feel anxious or uncomfortable in social settings.\n",
    "\n",
    "- **Visualization:** A histogram or density plot of Social_Anxiety_Score would allow us to examine the distribution of social anxiety across the sample. This visualization can reveal whether social anxiety is normally distributed or if there are distinct groups with higher or lower anxiety, which could impact psychological well-being.\n",
    "\n",
    "**2. Everyday Discrimination (`Discrimination_Frequency`)**\n",
    "\n",
    "- **Description:** A categorical variable capturing how often individuals experience discrimination (e.g., \"never,\" \"rarely,\" \"sometimes,\" \"often\").\n",
    "\n",
    "- **Visualization:** A bar chart showing the frequency of each category in Discrimination_Frequency would provide insight into how common perceived discrimination is among participants. Additionally, box plots of Wellbeing_Score and `Social_Satisfaction_Score` stratified by Discrimination_Frequency could help illustrate whether those who experience discrimination more frequently report lower well-being and satisfaction.\n",
    "\n",
    "**3. Cultural Orientation (`Cultural_Background`)**\n",
    "\n",
    "- **Description:** This categorical variable indicates the individual’s cultural background, potentially categorized by individualistic or collectivistic tendencies.\n",
    "\n",
    "- **Visualization:** A grouped bar chart could compare Wellbeing_Score and Social_Satisfaction_Score across different cultural backgrounds. This may highlight cultural differences in perceived well-being and social satisfaction and their possible interaction with other factors, such as social anxiety.\n",
    "\n",
    "**4. Social Satisfaction (`Social_Satisfaction_Score`)**\n",
    "\n",
    "- **Description:** A numerical variable indicating satisfaction with social interactions in structured settings, reflecting perceived quality of social life.\n",
    "\n",
    "- **Visualization:** A scatter plot between Social_Satisfaction_Score and Wellbeing_Score would illustrate whether higher social satisfaction correlates with better psychological well-being. This relationship could be further analyzed across different levels of Social_Anxiety_Score or Discrimination_Frequency to identify any interaction effects.\n",
    "\n",
    "**5. Psychological Well-Being (`Wellbeing_Score`)**\n",
    "\n",
    "- **Description:** This composite or individual item score reflects an individual's level of psychological well-being or mental health.\n",
    "\n",
    "- **Visualization:** A box plot of Wellbeing_Score grouped by Discrimination_Frequency and Cultural_Background categories would illustrate how these factors might influence well-being. Additionally, a heat map could represent the correlation matrix, showing relationships among all variables, including Wellbeing_Score."
   ]
  },
  {
   "cell_type": "markdown",
   "id": "a4f64346",
   "metadata": {},
   "source": [
    "**ANALYSIS**\n",
    "\n",
    "Note: I am not as familiar with multiple linear regression but I thought that it would be the best approach and I hope this is accurate.\n",
    "\n",
    "The analytical approach will be to use multiple linear regression with `Wellbeing_Score` as the dependent variable and `Social_Anxiety_Score`, `Discrimination_Frequency`, `Cultural_Background`, and `Social_Satisfaction_Score` as independent variables. This model will evaluate the individual and combined effects of social anxiety, discrimination, cultural orientation, and social satisfaction on psychological well-being.\n",
    "\n",
    "The multiple linear regression model can be written as\n",
    "\n",
    "**Wellbeing score = **\n",
    "𝛽0+𝛽1(Social_Anxiety_Score)+𝛽2(Discrimination_Frequency)+𝛽3(Cultural_Background)+𝛽4(Social_Satisfaction_Score)+𝜖\n",
    "\n",
    "Where:\n",
    "\n",
    "- 𝛽0 is the intercept, representing the baseline well-being score when all independent variables are set to zero.\n",
    "- 𝛽1,𝛽2,𝛽3,𝛽4 are the coefficients for each independent variable, representing their unique contribution to psychological well-being.\n",
    "- ϵ is the error term, accounting for the variability in well-being not explained by the predictors.\n",
    "\n",
    "The regression would estimate these coefficients and assess their statistical significance. A positive coefficient indicates that the variable increases well-being, while a negative coefficient suggests the opposite.\n",
    "\n",
    "**ASSUMPTIONS**\n",
    "\n",
    "Here are the assumptions made when conducting the analysis:\n",
    "- **Linear relationship:** Assume linearity between `Wellbeing_Score` and each of the predictors. Scatter plots and residual analysis will verify this.\n",
    "\n",
    "- **Independence:** Participants’ responses are independent of each other.\n",
    "\n",
    "- **Normality:** Assume normally distributed residuals. The histogram of residuals will help evaluate this assumption.\n",
    "\n",
    "- **Homogeneity of Variance:** Assume constant variance of residuals, which we will check using residual vs. fitted values plot.\n",
    "\n",
    "**HYPOTHESIS**\n",
    "\n",
    "Higher levels of `Social_Anxiety_Score` and frequent `Discrimination_Frequency` will negatively impact both `Wellbeing_Score` and `Social_Satisfaction_Score`, since social anxiety can hinder the formation and enjoyment of social connections, which are critical components of well-being. Individuals who face discrimination are probably more likely to experience heightened stress, feelings of exclusion, and diminished self-worth, all of which are expected to contribute to lower well-being. On the other hand, cultural orientation may positively impact these effects. For example, those from collectivistic backgrounds, which emphasize interdependence and group harmony, may have higher well-being and social satisfaction compared to individualistic ones who have similar levels of social anxiety or discrimination.\n",
    "\n",
    "**RELEVANCE TO RESEARCH QUESTION**\n",
    "\n",
    "By testing these relationships, we can determine whether social anxiety, discrimination, and cultural background significantly impact well-being and social satisfaction. The results could help in tailoring mental health initiatives, suggesting that reducing discrimination and supporting social satisfaction could improve well-being across different cultural backgrounds."
   ]
  },
  {
   "cell_type": "markdown",
   "id": "ad2b00c1",
   "metadata": {},
   "source": [
    "**RESEARCH QUESTION 2**\n",
    "\n",
    "*How does community involvement influence levels of chronic loneliness and burnout among individuals, and what barriers to participation exacerbate these mental health issues?*"
   ]
  },
  {
   "cell_type": "markdown",
   "id": "4d8c1630",
   "metadata": {},
   "source": [
    "This question focuses on how engagement in community activities might mitigate feelings of loneliness and burnout, and it also examines what factors prevent individuals from participating. It would be interesting to study the extent to which frequent community involvement lowers loneliness and burnout. It would also be worth checking whether specific barriers to community involvement (such as financial limitations or time constraints) are associated with increased loneliness and burnout. Insights from this study could help identify which types of community engagement might be most beneficial for mental health and highlight actionable barriers that organizations could address to foster greater inclusion.\n",
    "\n",
    "The primary **population parameter** is the average level of chronic loneliness and burnout among individuals, specifically within the context of varying levels of community involvement. In this case, estimating the proportion of individuals facing specific barriers to participation could show the most common obstacles affecting mental health outcomes.\n",
    "\n",
    "It would be interesting to see if higher frequency of community involvement is negatively associated with both loneliness and burnout, as engagement in community activities often provides social support and purpose. The presence of participation barriers (e.g., time, finances, or health issues) might moderate the relationship between community involvement and mental health outcomes. It would probably be expected to see a positive association between chronic loneliness and burnout, where individuals experiencing one are more likely to experience the other, reflecting the compounding effects of social isolation on mental health.\n"
   ]
  },
  {
   "cell_type": "markdown",
   "id": "ff90cd0f",
   "metadata": {},
   "source": [
    "**VARIABLES AND VISUALIZATIONS**\n",
    "\n",
    "**1. Community Involvement (`Community_Involvement_Score`)**\n",
    "\n",
    "- **Description:** A numerical score representing how actively an individual participates in community activities.\n",
    "\n",
    "- **Visualization:** A histogram of community involvement scores could show the distribution of community engagement across the sample, identifying whether most people have high, medium, or low involvement. This would provide an overview of engagement levels and help contextualize loneliness and burnout scores.\n",
    "\n",
    "**2. Chronic Loneliness (`Chronic_Loneliness_Score`)**\n",
    "\n",
    "- **Desciption:** A numerical measure assessing long-term feelings of loneliness.\n",
    "\n",
    "- **Visualization:** A box plot of chronic loneliness scores, segmented by levels of community involvement (e.g., low, medium, high), would illustrate if higher community engagement corresponds to lower loneliness. This would show if there's any inverse relationship between involvement and loneliness.\n",
    "\n",
    "**3. Burnout (`Burnout_Level`)**\n",
    "- **Desciption:** A categorical variable indicating burnout intensity (e.g., “low,” “moderate,” “high”).\n",
    "\n",
    "- **Visualization:** A bar chart showing the distribution of burnout levels across different community involvement categories could reveal if burnout is more prevalent in individuals with low community involvement, which would indicate whether involvement serves as a protective factor against burnout.\n",
    "\n",
    "**4. Barriers to Participation (`Barriers_Score`)**\n",
    "- **Desciption:** A composite score representing obstacles to community participation, such as time, financial, or accessibility barriers.\n",
    "- **Visualization:** A scatter plot with community involvement on the x-axis and barriers score on the y-axis would reveal whether higher barriers are associated with lower involvement. If there is a clear negative trend, it would mean that barriers significantly prevent involvement, which exacerbates the effects of loneliness and burnout."
   ]
  },
  {
   "cell_type": "markdown",
   "id": "1e598263",
   "metadata": {},
   "source": [
    "**ANALYTICAL APPROACH**\n",
    "\n",
    "For this research question, we can use independent t-tests or ANOVA to assess the relationships between Community_Involvement, Chronic_Loneliness, Burnout, and Barriers_to_Participation. This method allows for simple comparisons between groups while still providing valuable insights into how community involvement and barriers to participation relate to mental health outcomes.\n",
    "\n",
    "**Null Hypothesis (H₀):** Community involvement has no effect on chronic loneliness/burnout (i.e., the mean levels of chronic loneliness and burnout are the same regardless of community involvement).\n",
    "\n",
    "**Alternative Hypothesis (H₁):** Community involvement has a significant effect on reducing chronic loneliness/burnout (i.e., the mean levels of chronic loneliness and burnout are lower for individuals with higher community involvement).\n",
    "\n",
    "These hypotheses can be tested using t-tests or ANOVA if community involvement is categorized into groups (e.g., low, medium, high), or by conducting a correlation analysis if community involvement is treated as a continuous variable. If there is a statistically significant difference in loneliness and burnout levels between groups, the null hypothesis would be rejected and show strong evidence that community involvement influences mental health outcomes.\n",
    "\n",
    "For continuous community involvement, a Pearson correlation coefficient can be calculated to assess the strength and direction of the relationship between community involvement and both mental health outcomes.\n",
    "\n",
    "A p-value less than the significance level (typically 0.05) would indicate that the relationship between community involvement and the mental health outcome (loneliness or burnout) is statistically significant, allowing us to reject the null hypothesis.\n",
    "\n",
    "The next step would be to conduct a two-way t-test to assess the interaction effect between Community Involvement and Barriers to Participation on the outcome variables (Chronic Loneliness and Burnout). In this model, we are testing whether the combination of high/low community involvement and high/low barriers has a significant effect on mental health outcomes.\n",
    "\n",
    "If the p-value is significant, we would reject the null hypothesis and conclude that barriers to participation modify the effect of community involvement on loneliness and burnout.\n",
    "\n",
    "Confidence intervals (CIs) matter, especially in the one chosen (e.g., the difference in burnout levels between high and low community involvement groups). The confidence intervals will provide a range of plausible values for the true effect size, giving an estimate of how much community involvement impacts chronic loneliness and burnout in the population.\n",
    "\n",
    "\n",
    "**ASSUMPTIONS**\n",
    "\n",
    "- **Independence:** The responses from participants are assumed to be independent, meaning one participant's score does not influence another's.\n",
    "- **Normal Distribution of Outcomes:** The Chronic_Loneliness and Burnout scores should approximately follow a normal distribution for valid t-test or ANOVA results. This can be checked using histograms or probability plots.\n",
    "- **Equal Variances Across Groups:** The variability of Chronic_Loneliness and Burnout should be similar across the different groups of Community_Involvement and Barriers_to_Participation. This can be checked using Levene’s test for equality of variances.\n",
    "\n",
    "**HYPOTHESIS**\n",
    "\n",
    "We hypothesize that higher levels of community involvement will be significantly associated with lower levels of chronic loneliness and burnout. Additionally, we expect that barriers to participation will moderate these effects. Specifically, individuals with high levels of community involvement but who also experience significant barriers may not experience as much of a reduction in loneliness and burnout as those with fewer barriers. Those who face many barriers and are less involved in their communities are expected to experience the highest levels of loneliness and burnout.\n",
    "\n",
    "**RELEVANCE TO RESEARCH QUESTION**\n",
    "\n",
    "This analysis helps answer the research question by identifying whether increasing community involvement and reducing barriers can improve mental health outcomes. If the results support the hypotheses, they would highlight the need for policies aimed at increasing accessibility to community activities, thereby helping to reduce loneliness and burnout. This information would be valuable for designing interventions that promote mental well-being by facilitating greater participation in community life and addressing obstacles faced by individuals."
   ]
  },
  {
   "cell_type": "markdown",
   "id": "2307635e",
   "metadata": {},
   "source": [
    "**RESEARCH QUESTION 3**\n",
    "\n",
    "*What is the association between participation in group physical activities, the intensity of exercise routines, and overall psychological well-being, and how do these factors influence relationship satisfaction?*"
   ]
  },
  {
   "cell_type": "markdown",
   "id": "34dcf9a4",
   "metadata": {},
   "source": [
    "This research question explores how physical activity, particularly in group settings, relates to mental well-being and interpersonal relationships. Specific points of interest include group-based physical activities have a stronger impact on psychological well-being compared to individual activitie; and the intensity of exercise routines correlates with relationship satisfaction, potentially through improved well-being. Insights could shed light on the value of group physical activities for holistic health, suggesting how these routines benefit both personal mental health and relationship quality.\n",
    "\n",
    "The main **population parameters** are the average psychological well-being score and average relationship satisfaction score among adults, conditional on their frequency of group physical activity and exercise intensity; and the proportion of individuals who frequently engage in group physical activities, which could help characterize the sample population’s exercise habits.\n",
    "\n",
    "A positive association is expected between frequency of group activity participation and psychological well-being, as group physical activities can provide both physical benefits and social support. Higher intensity of exercise routines may positively affect psychological well-being, and improved well-being might in turn be positively associated with relationship satisfaction.Psychological well-being could mediate the relationship between exercise intensity and relationship satisfaction, where engaging in higher-intensity exercises enhances well-being, which subsequently boosts relationship satisfaction."
   ]
  },
  {
   "cell_type": "markdown",
   "id": "772eb4f5",
   "metadata": {},
   "source": [
    "**VARIABLES AND VISUALISATIONS**\n",
    "\n",
    "**1. Group Physical Activity Participation (`Physical_Activity_Participation`)**\n",
    "- **Desciption:** Categorical variable indicating how often an individual participates in group physical activities (e.g., “never,” “occasionally,” “frequently”).\n",
    "- **Visualization:** A pie chart could illustrate the proportion of participants who fall into each participation frequency category. This would provide a clear picture of group exercise engagement, allowing us to see if certain groups (e.g., frequent participants) have notably different well-being and satisfaction scores.\n",
    "\n",
    "**2. Exercise Intensity (`Exercise_Intensity`)**\n",
    "- **Description:** A categorical variable indicating the intensity of the individual’s exercise routine (e.g., “low,” “moderate,” “high”).\n",
    "- **Visualization:** A stacked bar chart with exercise intensity on the x-axis and the number of participants for each intensity level could show how intensity levels vary across different frequencies of group physical activity participation. This helps visualize whether those who exercise frequently tend to favor higher intensities, setting the context for analyzing its impact on well-being.\n",
    "\n",
    "**3. Psychological Well-Being (`Wellbeing_Score`)**\n",
    "- **Description:** A numerical score measuring overall mental health or well-being.\n",
    "- **Visualization:** A scatter plot of exercise intensity versus well-being scores would allow us to observe if higher-intensity exercise is associated with improved well-being, identifying any positive relationship between physical intensity and mental health. This could further inform understanding of how exercise quality, not just frequency, influences psychological outcomes.\n",
    "\n",
    "**Relationship Satisfaction (`Relationship_Satisfaction`)**\n",
    "- **Description:** A numerical score representing satisfaction in close relationships.\n",
    "- **Visualization:** A box plot of relationship satisfaction scores segmented by frequency of physical activity participation could reveal whether those engaged in frequent group activities report higher satisfaction. This would visually display if social interaction through physical activities positively impacts relational health."
   ]
  },
  {
   "cell_type": "markdown",
   "id": "d6199e82",
   "metadata": {},
   "source": [
    "**ANALYTICAL APPROACH**\n",
    "\n",
    "The analysis will be done through data summarization and simple linear regression to understand the distributions and relationships among our key variables: participation in group activities, exercise intensity, well-being, and relationship satisfaction. Then, we’ll use simple linear regression models to investigate the relationships between exercise variables (participation and intensity) and mental health outcomes (well-being and relationship satisfaction). This approach is effective for identifying trends and making initial inferences without requiring more complex multivariable methods.\n",
    "\n",
    "**Data Summarization**\n",
    "\n",
    "Summarize each variable to understand basic patterns. For example, calculate means and standard deviations for `Wellbeing_Score` and `Relationship_Satisfaction_Score`, and frequencies for `Group_Physical_Activity_Participation` and `Exercise_Intensity`. This step will give an overview of the typical levels of exercise participation, intensity, well-being, and relationship satisfaction among respondents.\n",
    "\n",
    "**Simple Linear Regression**\n",
    "\n",
    "Separate regression models to assess each relationship:\n",
    "\n",
    "- **Model 1:** Predict Wellbeing_Score based on Group_Physical_Activity_Participation.\n",
    "\n",
    "- **Model 2:** Predict Wellbeing_Score based on Exercise_Intensity.\n",
    "\n",
    "- **Model 3:** Predict Relationship_Satisfaction_Score based on Group_Physical_Activity_Participation.\n",
    "\n",
    "- **Model 4:** Predict Relationship_Satisfaction_Score based on Exercise_Intensity.\n",
    "\n",
    "These models allow us to determine the strength and direction of each relationship. Simple linear regression is effective here, as it directly assesses how each exercise-related variable influences well-being and relationship satisfaction, and is well-suited for testing one-to-one relationships.\n",
    "\n",
    "**ASSUMPTIONS**\n",
    "\n",
    "Here are assumptions that need to be made during the analysis:\n",
    "\n",
    "- **Linearity:** Simple linear regression assumes a linear relationship between each predictor (participation or intensity) and the outcome (well-being or relationship satisfaction). This assumption will be checked visually with scatter plots.\n",
    "- **Independence of Observations:** Assumes each participant’s responses are independent, meaning responses do not influence each other.\n",
    "- **Constant Variance of Errors:** Assumes that the variability of errors is consistent across levels of the predictor variables.\n",
    "- **Normality of Errors:** The residuals should be approximately normally distributed, which can be assessed using histograms of residuals.\n",
    "\n",
    "**HYPOTHESIS**\n",
    "\n",
    "Individuals who engage in group physical activities are likely to have higher Wellbeing_Score and Relationship_Satisfaction_Score compared to those who do not. Higher Exercise_Intensity will positively correlate with Wellbeing_Score, indicating that more intense routines are linked with better psychological well-being. Exercise intensity may also be positively associated with Relationship_Satisfaction_Score, as increased physical engagement can contribute to relational benefits, possibly due to shared activities or increased confidence and energy. In this case, the negative effects of low community involvement on mental health should be **stronger** for individuals who face greater barriers to participation.\n",
    "\n",
    "**RELEVANCE TO RESEARCH QUESTION**  \n",
    "\n",
    "If the analysis supports these hypotheses, the findings could have important practical implications. For example, if barriers to participation are shown to worsen loneliness and burnout, then efforts to remove or reduce these barriers (e.g., providing financial assistance, transportation, or creating more flexible community programs) could directly improve individuals' mental health. This could be especially beneficial for populations that experience greater difficulties in engaging with their communities.\n",
    "  \n",
    "Another result of the finding is more community related. If community involvement is indeed found to have a protective effect against loneliness and burnout, this could inform social and health policy. Programs aimed at encouraging people to participate in community activities could be framed as a preventative mental health strategy, with the goal of fostering greater social connection and reducing burnout.\n",
    "\n",
    "Confirming these hypotheses would indicate that group physical activity and exercise intensity can positively influence both personal well-being and relationship satisfaction. The reults would support the idea that encouraging regular physical activity—especially in group settings—could be beneficial for mental and relational health. This could inform wellness programs, highlighting the value of structured group exercises and promoting community-based activities as a way to enhance psychological well-being and improve personal relationships."
   ]
  },
  {
   "cell_type": "code",
   "execution_count": null,
   "id": "1a8468cb",
   "metadata": {},
   "outputs": [],
   "source": []
  }
 ],
 "metadata": {
  "kernelspec": {
   "display_name": "Python 3 (ipykernel)",
   "language": "python",
   "name": "python3"
  },
  "language_info": {
   "codemirror_mode": {
    "name": "ipython",
    "version": 3
   },
   "file_extension": ".py",
   "mimetype": "text/x-python",
   "name": "python",
   "nbconvert_exporter": "python",
   "pygments_lexer": "ipython3",
   "version": "3.11.6"
  }
 },
 "nbformat": 4,
 "nbformat_minor": 5
}
